{
 "cells": [
  {
   "cell_type": "code",
   "execution_count": 1,
   "metadata": {},
   "outputs": [],
   "source": [
    "import os\n",
    "from langchain_openai import ChatOpenAI \n",
    "from dotenv import load_dotenv\n"
   ]
  },
  {
   "cell_type": "code",
   "execution_count": 2,
   "metadata": {},
   "outputs": [],
   "source": [
    "# Load variables from .env\n",
    "load_dotenv()\n",
    "api_key = os.getenv(\"API_KEY\")\n"
   ]
  },
  {
   "cell_type": "code",
   "execution_count": 3,
   "metadata": {},
   "outputs": [],
   "source": [
    "llm = ChatOpenAI(model=\"gpt-4o\", # GPT-3.5-turbo is the default model\n",
    "                 openai_api_key=api_key,\n",
    "                 temperature=.75,\n",
    "                 max_tokens=1024,\n",
    "                 request_timeout=30)  "
   ]
  },
  {
   "cell_type": "code",
   "execution_count": 4,
   "metadata": {},
   "outputs": [
    {
     "data": {
      "text/plain": [
       "AIMessage(content='Vasco Rossi is an Italian singer-songwriter and a major figure in the Italian rock music scene. Born on February 7, 1952, in Zocca, a small town in the Emilia-Romagna region of Italy, he is often referred to simply as \"Vasco\" by his fans. Rossi\\'s career began in the late 1970s, and he gained popularity in the 1980s with his rebellious image and rock music that resonated with many young people.\\n\\nHis music typically features introspective lyrics and themes of love, existential angst, and social commentary. Over the years, Vasco Rossi has released numerous albums and is known for his energetic live performances. He has a massive and dedicated fan base in Italy and is considered one of the most successful Italian rock artists. Some of his most popular songs include \"Albachiara,\" \"Vita Spericolata,\" and \"Senza Parole.\" Despite facing various controversies and challenges throughout his career, he remains a prominent and influential figure in Italian music.', additional_kwargs={'refusal': None}, response_metadata={'token_usage': {'completion_tokens': 208, 'prompt_tokens': 11, 'total_tokens': 219, 'completion_tokens_details': {'accepted_prediction_tokens': 0, 'audio_tokens': 0, 'reasoning_tokens': 0, 'rejected_prediction_tokens': 0}, 'prompt_tokens_details': {'audio_tokens': 0, 'cached_tokens': 0}}, 'model_name': 'gpt-4o-2024-08-06', 'system_fingerprint': 'fp_eb9dce56a8', 'finish_reason': 'stop', 'logprobs': None}, id='run-57d67daf-2b73-4bd9-b261-67b6957abd92-0', usage_metadata={'input_tokens': 11, 'output_tokens': 208, 'total_tokens': 219, 'input_token_details': {'audio': 0, 'cache_read': 0}, 'output_token_details': {'audio': 0, 'reasoning': 0}})"
      ]
     },
     "execution_count": 4,
     "metadata": {},
     "output_type": "execute_result"
    }
   ],
   "source": [
    "llm.invoke(\"Who's Vasco Rossi?\")\n"
   ]
  },
  {
   "cell_type": "code",
   "execution_count": 5,
   "metadata": {},
   "outputs": [],
   "source": [
    "from langchain.prompts import ChatPromptTemplate\n",
    "\n",
    "prompt = ChatPromptTemplate.from_messages([\n",
    "    (\"system\", \"Act as a world class Machine Learning engineer. Use italian language. Ends your answers with a reference to the beauty of using data science in any decision you make.\"),\n",
    "    (\"user\", \"{input}\")\n",
    "])\n",
    "\n",
    "# concatenation of the prompt to the model\n",
    "chain = prompt | llm"
   ]
  },
  {
   "cell_type": "code",
   "execution_count": 6,
   "metadata": {},
   "outputs": [
    {
     "data": {
      "text/plain": [
       "AIMessage(content=\"Vasco Rossi è un celebre cantautore italiano, considerato una delle figure più influenti nel panorama musicale italiano. Nato il 7 febbraio 1952 a Zocca, una piccola città in provincia di Modena, ha iniziato la sua carriera negli anni '70 e ha pubblicato numerosi album di grande successo. Vasco è noto per i suoi testi profondi e spesso provocatori, che trattano temi come la libertà, l'amore e la ribellione. Le sue performance dal vivo sono leggendarie e hanno attirato milioni di fan in tutta Italia.\\n\\nLa bellezza dell'uso della scienza dei dati risiede nella capacità di scoprire e comprendere tendenze musicali e preferenze del pubblico, permettendo a artisti come Vasco Rossi di adattarsi e connettersi ancora più profondamente con i loro ascoltatori.\", additional_kwargs={'refusal': None}, response_metadata={'token_usage': {'completion_tokens': 183, 'prompt_tokens': 47, 'total_tokens': 230, 'completion_tokens_details': {'accepted_prediction_tokens': 0, 'audio_tokens': 0, 'reasoning_tokens': 0, 'rejected_prediction_tokens': 0}, 'prompt_tokens_details': {'audio_tokens': 0, 'cached_tokens': 0}}, 'model_name': 'gpt-4o-2024-08-06', 'system_fingerprint': 'fp_f9f4fb6dbf', 'finish_reason': 'stop', 'logprobs': None}, id='run-40b7d23f-3f67-481f-9d01-f91c357044cd-0', usage_metadata={'input_tokens': 47, 'output_tokens': 183, 'total_tokens': 230, 'input_token_details': {'audio': 0, 'cache_read': 0}, 'output_token_details': {'audio': 0, 'reasoning': 0}})"
      ]
     },
     "execution_count": 6,
     "metadata": {},
     "output_type": "execute_result"
    }
   ],
   "source": [
    "chain.invoke(\"Who's Vasco Rossi?\")  # returns a tuple with the system and user messages"
   ]
  },
  {
   "cell_type": "markdown",
   "metadata": {},
   "source": [
    "# Parserizzazione degli output"
   ]
  },
  {
   "cell_type": "code",
   "execution_count": 46,
   "metadata": {},
   "outputs": [],
   "source": [
    "llm = ChatOpenAI(# model=\"gpt-4o\", # GPT-3.5-turbo is the default model\n",
    "                 openai_api_key=api_key,\n",
    "                 temperature=.75,\n",
    "                 max_tokens=1024,\n",
    "                 request_timeout=30)  "
   ]
  },
  {
   "cell_type": "markdown",
   "metadata": {},
   "source": [
    "## Standard String Output Parser"
   ]
  },
  {
   "cell_type": "code",
   "execution_count": 47,
   "metadata": {},
   "outputs": [
    {
     "data": {
      "text/plain": [
       "\"La bellezza dell'analisi dei dati e delle AI si manifesta pienamente nel campo della musica elettronica. Grazie all'uso di algoritmi avanzati e modelli predittivi, è possibile creare composizioni musicali innovative e coinvolgenti. L'analisi dei dati consente di identificare pattern e tendenze nascoste nei brani, mentre le AI possono essere utilizzate per generare automaticamente nuove tracce musicali. In questo modo, la musica elettronica diventa un campo fertile per esplorare le potenzialità della tecnologia e dell'arte.\""
      ]
     },
     "execution_count": 47,
     "metadata": {},
     "output_type": "execute_result"
    }
   ],
   "source": [
    "from langchain.prompts import PromptTemplate\n",
    "from langchain_core.output_parsers import StrOutputParser\n",
    "\n",
    "template = \"\"\"Agisci come un esperto Data Scientist rispondendo a tutte le domande con riferimenti alla bellezza dell'analisi dei dati e delle AI.\n",
    "Domanda: {input}\n",
    "Risposta:\"\"\"\n",
    "\n",
    "prompt = PromptTemplate.from_template(template)\n",
    "\n",
    "output_parser = StrOutputParser()\n",
    "\n",
    "chain = prompt | llm | output_parser\n",
    "\n",
    "chain.invoke({\"input\": \"Mi piace la musica elettronica\"})"
   ]
  },
  {
   "cell_type": "markdown",
   "metadata": {},
   "source": [
    "## Oggetti Python con Pydantic"
   ]
  },
  {
   "cell_type": "code",
   "execution_count": 48,
   "metadata": {},
   "outputs": [],
   "source": [
    "from pydantic import BaseModel, Field, field_validator\n",
    "from langchain.output_parsers import PydanticOutputParser\n",
    "\n",
    "class User(BaseModel):\n",
    "    id: int = Field(description=\"user identification number\")\n",
    "    name: str = Field(description=\"user name\")\n",
    "    mail: str = Field(description=\"user mail address\")\n",
    "    \n",
    "    @field_validator(\"mail\")\n",
    "    def is_valid(cls, field):\n",
    "        if not \"@\" in field or \".\" not in field:\n",
    "            raise ValueError(\"Invalid mail\")\n",
    "        return field\n",
    "\n",
    "parser = PydanticOutputParser(pydantic_object=User)\n",
    "\n",
    "prompt = PromptTemplate(\n",
    "    template=\"Analizza il testo\\n{format_instructions}\\n{query}\\n\",\n",
    "    input_variables=[\"query\"],\n",
    "    partial_variables={\"format_instructions\": parser.get_format_instructions()},\n",
    ")\n",
    "\n",
    "chain = prompt | llm | output_parser"
   ]
  },
  {
   "cell_type": "code",
   "execution_count": 49,
   "metadata": {},
   "outputs": [
    {
     "name": "stdout",
     "output_type": "stream",
     "text": [
      "{\n",
      "  \"id\": 123456,\n",
      "  \"name\": \"Mario Rossi\",\n",
      "  \"mail\": \"mario.rossi@gmail.com\"\n",
      "}\n"
     ]
    }
   ],
   "source": [
    "query = \"id:123456, nominativo: Mario Rossi, e-mail: mario.rossi_at_gmail.com\"\n",
    "\n",
    "print(chain.invoke({\"query\": query}))"
   ]
  },
  {
   "cell_type": "code",
   "execution_count": 50,
   "metadata": {},
   "outputs": [
    {
     "name": "stdout",
     "output_type": "stream",
     "text": [
      "{\n",
      "  \"id\": 123456,\n",
      "  \"name\": \"Mario Rossi\",\n",
      "  \"mail\": \"mario.rossi@gmail.com\"\n",
      "}\n"
     ]
    }
   ],
   "source": [
    "query = \" Mario Rossi mario.rossi_at_gmail.com 123456\"\n",
    "\n",
    "print(chain.invoke({\"query\": query}))"
   ]
  },
  {
   "cell_type": "markdown",
   "metadata": {},
   "source": [
    "## Pandas Parser"
   ]
  },
  {
   "cell_type": "code",
   "execution_count": 51,
   "metadata": {},
   "outputs": [],
   "source": [
    "import pandas as pd\n",
    "from langchain.output_parsers import PandasDataFrameOutputParser\n",
    "\n",
    "df = pd.DataFrame(\n",
    "    {\n",
    "        \"model\": [\"Canon EOS D60\", \"Agfa ePhoto CL45\", \"Casio QV-R62\", \"Kodak P850\"],\n",
    "        \"max_res\": [3072, 1600, 2816, 2592],\n",
    "        \"pixels\": [6, 1, 4, 5],\n",
    "    }\n",
    ")"
   ]
  },
  {
   "cell_type": "code",
   "execution_count": 52,
   "metadata": {},
   "outputs": [
    {
     "data": {
      "text/html": [
       "<div>\n",
       "<style scoped>\n",
       "    .dataframe tbody tr th:only-of-type {\n",
       "        vertical-align: middle;\n",
       "    }\n",
       "\n",
       "    .dataframe tbody tr th {\n",
       "        vertical-align: top;\n",
       "    }\n",
       "\n",
       "    .dataframe thead th {\n",
       "        text-align: right;\n",
       "    }\n",
       "</style>\n",
       "<table border=\"1\" class=\"dataframe\">\n",
       "  <thead>\n",
       "    <tr style=\"text-align: right;\">\n",
       "      <th></th>\n",
       "      <th>model</th>\n",
       "      <th>max_res</th>\n",
       "      <th>pixels</th>\n",
       "    </tr>\n",
       "  </thead>\n",
       "  <tbody>\n",
       "    <tr>\n",
       "      <th>0</th>\n",
       "      <td>Canon EOS D60</td>\n",
       "      <td>3072</td>\n",
       "      <td>6</td>\n",
       "    </tr>\n",
       "    <tr>\n",
       "      <th>1</th>\n",
       "      <td>Agfa ePhoto CL45</td>\n",
       "      <td>1600</td>\n",
       "      <td>1</td>\n",
       "    </tr>\n",
       "    <tr>\n",
       "      <th>2</th>\n",
       "      <td>Casio QV-R62</td>\n",
       "      <td>2816</td>\n",
       "      <td>4</td>\n",
       "    </tr>\n",
       "    <tr>\n",
       "      <th>3</th>\n",
       "      <td>Kodak P850</td>\n",
       "      <td>2592</td>\n",
       "      <td>5</td>\n",
       "    </tr>\n",
       "  </tbody>\n",
       "</table>\n",
       "</div>"
      ],
      "text/plain": [
       "              model  max_res  pixels\n",
       "0     Canon EOS D60     3072       6\n",
       "1  Agfa ePhoto CL45     1600       1\n",
       "2      Casio QV-R62     2816       4\n",
       "3        Kodak P850     2592       5"
      ]
     },
     "execution_count": 52,
     "metadata": {},
     "output_type": "execute_result"
    }
   ],
   "source": [
    "df"
   ]
  },
  {
   "cell_type": "code",
   "execution_count": 53,
   "metadata": {},
   "outputs": [],
   "source": [
    "parser = PandasDataFrameOutputParser(dataframe=df)"
   ]
  },
  {
   "cell_type": "code",
   "execution_count": 54,
   "metadata": {},
   "outputs": [
    {
     "name": "stdout",
     "output_type": "stream",
     "text": [
      "The output should be formatted as a string as the operation, followed by a colon, followed by the column or row to be queried on, followed by optional array parameters.\n",
      "1. The column names are limited to the possible columns below.\n",
      "2. Arrays must either be a comma-separated list of numbers formatted as [1,3,5], or it must be in range of numbers formatted as [0..4].\n",
      "3. Remember that arrays are optional and not necessarily required.\n",
      "4. If the column is not in the possible columns or the operation is not a valid Pandas DataFrame operation, return why it is invalid as a sentence starting with either \"Invalid column\" or \"Invalid operation\".\n",
      "\n",
      "As an example, for the formats:\n",
      "1. String \"column:num_legs\" is a well-formatted instance which gets the column num_legs, where num_legs is a possible column.\n",
      "2. String \"row:1\" is a well-formatted instance which gets row 1.\n",
      "3. String \"column:num_legs[1,2]\" is a well-formatted instance which gets the column num_legs for rows 1 and 2, where num_legs is a possible column.\n",
      "4. String \"row:1[num_legs]\" is a well-formatted instance which gets row 1, but for just column num_legs, where num_legs is a possible column.\n",
      "5. String \"mean:num_legs[1..3]\" is a well-formatted instance which takes the mean of num_legs from rows 1 to 3, where num_legs is a possible column and mean is a valid Pandas DataFrame operation.\n",
      "6. String \"do_something:num_legs\" is a badly-formatted instance, where do_something is not a valid Pandas DataFrame operation.\n",
      "7. String \"mean:invalid_col\" is a badly-formatted instance, where invalid_col is not a possible column.\n",
      "\n",
      "Here are the possible columns:\n",
      "```\n",
      "model, max_res, pixels\n",
      "```\n",
      "\n"
     ]
    }
   ],
   "source": [
    "print(parser.get_format_instructions())"
   ]
  },
  {
   "cell_type": "code",
   "execution_count": 55,
   "metadata": {},
   "outputs": [],
   "source": [
    "prompt = PromptTemplate(\n",
    "    template=\"Answer the user query.\\n{format_instructions}\\n{query}\\n\",\n",
    "    input_variables=[\"query\"],\n",
    "    partial_variables={\"format_instructions\": parser.get_format_instructions()},\n",
    ")\n",
    "\n",
    "chain = prompt | llm | parser"
   ]
  },
  {
   "cell_type": "code",
   "execution_count": 57,
   "metadata": {},
   "outputs": [
    {
     "name": "stdout",
     "output_type": "stream",
     "text": [
      "{'model': 0       Canon EOS D60\n",
      "1    Agfa ePhoto CL45\n",
      "2        Casio QV-R62\n",
      "3          Kodak P850\n",
      "Name: model, dtype: object}\n"
     ]
    }
   ],
   "source": [
    "df_query = \"Recupera la prima colonna del dataframe.\"\n",
    "\n",
    "parser_output = chain.invoke({\"query\": df_query})\n",
    "\n",
    "print(parser_output)"
   ]
  }
 ],
 "metadata": {
  "kernelspec": {
   "display_name": ".venv",
   "language": "python",
   "name": "python3"
  },
  "language_info": {
   "codemirror_mode": {
    "name": "ipython",
    "version": 3
   },
   "file_extension": ".py",
   "mimetype": "text/x-python",
   "name": "python",
   "nbconvert_exporter": "python",
   "pygments_lexer": "ipython3",
   "version": "3.12.4"
  }
 },
 "nbformat": 4,
 "nbformat_minor": 2
}
