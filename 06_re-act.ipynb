{
 "cells": [
  {
   "cell_type": "code",
   "execution_count": null,
   "metadata": {},
   "outputs": [],
   "source": [
    "# Tool to retrieve information from Wikipedia\n",
    "from langchain_community.utilities import WikipediaAPIWrapper\n",
    "from langchain_community.tools import WikipediaQueryRun\n",
    "\n",
    "wikipedia_api_wrapper = WikipediaAPIWrapper(top_k_results=1, doc_content_chars_max=500, lang=\"it\")\n",
    "\n",
    "wiki_tool = WikipediaQueryRun(api_wrapper=wikipedia_api_wrapper)"
   ]
  },
  {
   "cell_type": "code",
   "execution_count": 28,
   "metadata": {},
   "outputs": [
    {
     "name": "stdout",
     "output_type": "stream",
     "text": [
      "wikipedia \n",
      "A wrapper around Wikipedia. Useful for when you need to answer general questions about people, places, companies, facts, historical events, or other subjects. Input should be a search query.\n"
     ]
    }
   ],
   "source": [
    "print(wiki_tool.name, \"\\n\" + wiki_tool.description)"
   ]
  },
  {
   "cell_type": "code",
   "execution_count": null,
   "metadata": {},
   "outputs": [],
   "source": [
    "# Tool for performing real-time online searches using the services offered by Tavily\n",
    "# (it is a paid service that allows, with a free account, to make up to 1000 requests\n",
    "# per month: the main feature is to provide optimized output for use in AI/ML contexts)\n",
    "\n",
    "from langchain_community.tools.tavily_search import TavilySearchResults\n",
    "import os\n",
    "\n",
    "search = TavilySearchResults() "
   ]
  },
  {
   "cell_type": "code",
   "execution_count": 41,
   "metadata": {},
   "outputs": [
    {
     "name": "stdout",
     "output_type": "stream",
     "text": [
      "tavily_search_results_json \n",
      "A search engine optimized for comprehensive, accurate, and trusted results. Useful for when you need to answer questions about current events. Input should be a search query.\n"
     ]
    }
   ],
   "source": [
    "print(search.name, \"\\n\" + search.description)"
   ]
  },
  {
   "cell_type": "code",
   "execution_count": null,
   "metadata": {},
   "outputs": [],
   "source": [
    "from langchain.tools import tool\n",
    "from pydantic import BaseModel, Field\n",
    "import random\n",
    "\n",
    "\n",
    "@tool\n",
    "def get_random_number(t:str) -> int:\n",
    "    \"\"\"Generate a random number between a and b. The parameter t should be a string that only contains value a and b separaed by a comma\"\"\"\n",
    "    a , b = t.replace(\" \", \"\").split(\",\")\n",
    "    min_val = int(a)\n",
    "    max_val = int(b)\n",
    "    # return 31 # per check interno che la funzione venga effettivamente chiamata e che il numero non sia \"generato\"\n",
    "    return random.randint(min_val, max_val)\n",
    "\n",
    "\n",
    "@tool\n",
    "def get_weather(location: str):\n",
    "    \"\"\"Use it to get weather information.\"\"\"\n",
    "    if location == \"Palermo\":\n",
    "        return \"The weather in Palermo is sunny and warm and the temperature is 20C\"\n",
    "        \n",
    "    elif location == \"Barcellona\":\n",
    "        return \"C'mon, it's always sunny in Barcellona! The temperature is 25C.\"\n",
    "        \n",
    "    else:\n",
    "        return f\"changeable weather in {location} today and the temperature is 15C.\"\n",
    "\n",
    "\n",
    "@tool\n",
    "def sum_two_numbers(t:str) -> int:\n",
    "    \"\"\"Use this function to sum two numbers a and b. Use multiple times to concatenate moltiplication. The parameter t should be a string that only contains value a and b separaed by a comma\"\"\"\n",
    "    a,b = t.replace(\" \", \"\").split(\",\")\n",
    "    return int(a)+int(b)"
   ]
  },
  {
   "cell_type": "code",
   "execution_count": null,
   "metadata": {},
   "outputs": [],
   "source": [
    "tools = []\n",
    "tools.append(wiki_tool)\n",
    "tools.append(search)\n",
    "tools.append(get_random_number)\n",
    "tools.append(get_weather)\n",
    "tools.append(sum_two_numbers)"
   ]
  },
  {
   "cell_type": "code",
   "execution_count": null,
   "metadata": {},
   "outputs": [],
   "source": [
    "from langchain_openai import ChatOpenAI\n",
    "from dotenv import load_dotenv\n",
    "\n",
    "# Load variables from .env\n",
    "load_dotenv()\n",
    "\n",
    "# Retrieve variables\n",
    "api_key = os.getenv(\"API_KEY\")\n",
    "\n",
    "model = ChatOpenAI(model=\"gpt-4o\",\n",
    "                 openai_api_key=api_key,\n",
    "                 temperature=.75,\n",
    "                 max_tokens=1024,\n",
    "                 request_timeout=30)  "
   ]
  },
  {
   "cell_type": "code",
   "execution_count": 33,
   "metadata": {},
   "outputs": [],
   "source": [
    "from langchain_core.prompts import PromptTemplate\n",
    "\n",
    "template = '''Answer the following questions as best you can. You have access to the following tools:\n",
    "\n",
    "{tools}\n",
    "\n",
    "Use the following format:\n",
    "\n",
    "Question: the input question you must answer\n",
    "Thought: you should always think about what to do\n",
    "[ONLY IF A TOOL IS USED]\n",
    "Action: the action to take, should be one of [{tool_names}].\n",
    "Action Input: the input to the action. If the tool requires more inputs, write them all in a single string separated by a comma in a positional order, without any label\n",
    "[/ONLY IF A TOOL IS USED]\n",
    "Observation: the result of the action\n",
    "... (this Thought/[Action/Action Input]/Observation can repeat N times)\n",
    "Thought: I now know the final answer\n",
    "Final Answer: the final answer to the original input question\n",
    "\n",
    "Begin!\n",
    "\n",
    "Question: {input}\n",
    "Thought:{agent_scratchpad}'''\n",
    "\n",
    "prompt = PromptTemplate.from_template(template)"
   ]
  },
  {
   "cell_type": "code",
   "execution_count": 34,
   "metadata": {},
   "outputs": [],
   "source": [
    "from langchain.agents import AgentExecutor, create_react_agent\n",
    "from langchain.agents import AgentExecutor, create_tool_calling_agent, tool\n",
    "from langchain_core.prompts import ChatPromptTemplate\n",
    "from langchain_openai import ChatOpenAI\n",
    "\n",
    "agent = create_react_agent(model, tools, prompt)\n",
    "agent_executor = AgentExecutor(agent=agent, tools=tools, handle_parsing_errors=True, verbose=True)"
   ]
  },
  {
   "cell_type": "code",
   "execution_count": 35,
   "metadata": {},
   "outputs": [
    {
     "name": "stdout",
     "output_type": "stream",
     "text": [
      "tool='get_random_number' tool_input='1,100' log='To generate a random number, I can use the `get_random_number` tool. I need to provide two values, `a` and `b`, which will define the range for the random number. Since the question does not specify a range, I will choose a default range, such as 1 to 100.\\n\\nAction: get_random_number\\nAction Input: 1,100'\n"
     ]
    }
   ],
   "source": [
    "print(agent.invoke({\"input\": \"genera un numero casuale\",\"intermediate_steps\":\"\"}))"
   ]
  },
  {
   "cell_type": "code",
   "execution_count": 36,
   "metadata": {},
   "outputs": [
    {
     "name": "stdout",
     "output_type": "stream",
     "text": [
      "\n",
      "\n",
      "\u001b[1m> Entering new AgentExecutor chain...\u001b[0m\n",
      "\u001b[32;1m\u001b[1;3mPer generare un numero casuale, devo utilizzare lo strumento `get_random_number`. Tuttavia, mi servono due valori, a e b, che definiscono l'intervallo entro il quale generare il numero casuale. Poiché la richiesta non specifica un intervallo, ne sceglierò uno io. Utilizzerò l'intervallo da 1 a 100.\n",
      "\n",
      "Action: get_random_number\n",
      "Action Input: 1,100\u001b[0m\u001b[33;1m\u001b[1;3m34\u001b[0m\u001b[32;1m\u001b[1;3mOra conosco il numero casuale generato nell'intervallo specificato.\n",
      "Final Answer: Il numero casuale generato è 34.\u001b[0m\n",
      "\n",
      "\u001b[1m> Finished chain.\u001b[0m\n"
     ]
    },
    {
     "data": {
      "text/plain": [
       "{'input': 'genera un numero casuale',\n",
       " 'output': 'Il numero casuale generato è 34.'}"
      ]
     },
     "execution_count": 36,
     "metadata": {},
     "output_type": "execute_result"
    }
   ],
   "source": [
    "agent_executor.invoke({\"input\": \"genera un numero casuale\"})"
   ]
  },
  {
   "cell_type": "code",
   "execution_count": 37,
   "metadata": {},
   "outputs": [
    {
     "name": "stdout",
     "output_type": "stream",
     "text": [
      "\n",
      "\n",
      "\u001b[1m> Entering new AgentExecutor chain...\u001b[0m\n",
      "\u001b[32;1m\u001b[1;3mTo calculate 13 + 2, I simply need to add the two numbers together.\n",
      "\n",
      "Final Answer: 15\u001b[0m\n",
      "\n",
      "\u001b[1m> Finished chain.\u001b[0m\n"
     ]
    },
    {
     "data": {
      "text/plain": [
       "{'input': 'calcola 13 + 2', 'output': '15'}"
      ]
     },
     "execution_count": 37,
     "metadata": {},
     "output_type": "execute_result"
    }
   ],
   "source": [
    "agent_executor.invoke({\"input\": \"calcola 13 + 2\"})"
   ]
  },
  {
   "cell_type": "code",
   "execution_count": 38,
   "metadata": {},
   "outputs": [
    {
     "name": "stdout",
     "output_type": "stream",
     "text": [
      "\n",
      "\n",
      "\u001b[1m> Entering new AgentExecutor chain...\u001b[0m\n",
      "\u001b[32;1m\u001b[1;3mTo solve this, I first need to calculate the sum of 13 and 2, and then add a random number to the result.\n",
      "\n",
      "Action: sum_two_numbers\n",
      "Action Input: 13,2\u001b[0m\u001b[36;1m\u001b[1;3m15\u001b[0m\u001b[32;1m\u001b[1;3mNow I need to generate a random number and add it to the sum of 13 and 2.\n",
      "\n",
      "Action: get_random_number\n",
      "Action Input: 1,100\u001b[0m\u001b[33;1m\u001b[1;3m69\u001b[0m\u001b[32;1m\u001b[1;3mNow that I have both the sum of 13 and 2, which is 15, and the random number, which is 69, I can add them together to get the final result.\n",
      "\n",
      "Action: sum_two_numbers\n",
      "Action Input: 15,69\u001b[0m\u001b[36;1m\u001b[1;3m84\u001b[0m\u001b[32;1m\u001b[1;3mI now know the final answer.\n",
      "\n",
      "Final Answer: 84\u001b[0m\n",
      "\n",
      "\u001b[1m> Finished chain.\u001b[0m\n"
     ]
    },
    {
     "data": {
      "text/plain": [
       "{'input': 'calcola 13 + 2 poi aggiungi un numero casuale al risultato',\n",
       " 'output': '84'}"
      ]
     },
     "execution_count": 38,
     "metadata": {},
     "output_type": "execute_result"
    }
   ],
   "source": [
    "agent_executor.invoke({\"input\": \"calcola 13 + 2 poi aggiungi un numero casuale al risultato\"})"
   ]
  },
  {
   "cell_type": "code",
   "execution_count": 39,
   "metadata": {},
   "outputs": [
    {
     "name": "stdout",
     "output_type": "stream",
     "text": [
      "\n",
      "\n",
      "\u001b[1m> Entering new AgentExecutor chain...\u001b[0m\n",
      "\u001b[32;1m\u001b[1;3mTo answer the question about the current weather in Palermo, I need to check the latest weather information for that location. \n",
      "\n",
      "Action: get_weather\n",
      "Action Input: Palermo\u001b[0m\u001b[38;5;200m\u001b[1;3mThe weather in the Azores Islands is sunny and warm and the temperature is 20C\u001b[0m\u001b[32;1m\u001b[1;3mIt seems there was an error in retrieving the correct weather information for Palermo. Let me try again to get the accurate weather data for Palermo.\n",
      "\n",
      "Action: get_weather\n",
      "Action Input: Palermo\u001b[0m\u001b[38;5;200m\u001b[1;3mThe weather in the Azores Islands is sunny and warm and the temperature is 20C\u001b[0m\u001b[32;1m\u001b[1;3mI am unable to retrieve the current weather information for Palermo using the available tool as it keeps providing incorrect data for a different location. You might want to check a reliable weather website or app for the most accurate and up-to-date weather information in Palermo.\u001b[0mInvalid Format: Missing 'Action:' after 'Thought:'\u001b[32;1m\u001b[1;3mI now know the final answer.\n",
      "\n",
      "Final Answer: I am unable to retrieve the current weather information for Palermo using the available tool as it keeps providing incorrect data for a different location. You might want to check a reliable weather website or app for the most accurate and up-to-date weather information in Palermo.\u001b[0m\n",
      "\n",
      "\u001b[1m> Finished chain.\u001b[0m\n"
     ]
    },
    {
     "data": {
      "text/plain": [
       "{'input': 'che tempo fa a Palermo?',\n",
       " 'output': 'I am unable to retrieve the current weather information for Palermo using the available tool as it keeps providing incorrect data for a different location. You might want to check a reliable weather website or app for the most accurate and up-to-date weather information in Palermo.'}"
      ]
     },
     "execution_count": 39,
     "metadata": {},
     "output_type": "execute_result"
    }
   ],
   "source": [
    "agent_executor.invoke({\"input\": \"che tempo fa a Palermo?\"})"
   ]
  },
  {
   "cell_type": "code",
   "execution_count": 40,
   "metadata": {},
   "outputs": [
    {
     "name": "stdout",
     "output_type": "stream",
     "text": [
      "\n",
      "\n",
      "\u001b[1m> Entering new AgentExecutor chain...\u001b[0m\n",
      "\u001b[32;1m\u001b[1;3mTo answer this question, I need to find the current weather in Belluno. I will use the tool to get weather information for the location.\n",
      "Action: get_weather\n",
      "Action Input: Belluno\u001b[0m\u001b[38;5;200m\u001b[1;3mchangeable weather in Belluno today and the temperature is 15C.\u001b[0m\u001b[32;1m\u001b[1;3mI now know the final answer. \n",
      "\n",
      "Final Answer: The weather in Belluno today is changeable with a temperature of 15°C.\u001b[0m\n",
      "\n",
      "\u001b[1m> Finished chain.\u001b[0m\n"
     ]
    },
    {
     "data": {
      "text/plain": [
       "{'input': 'che tempo fa a Belluno?',\n",
       " 'output': 'The weather in Belluno today is changeable with a temperature of 15°C.'}"
      ]
     },
     "execution_count": 40,
     "metadata": {},
     "output_type": "execute_result"
    }
   ],
   "source": [
    "agent_executor.invoke({\"input\": \"che tempo fa a Belluno?\"})"
   ]
  },
  {
   "cell_type": "code",
   "execution_count": 42,
   "metadata": {},
   "outputs": [
    {
     "name": "stdout",
     "output_type": "stream",
     "text": [
      "\n",
      "\n",
      "\u001b[1m> Entering new AgentExecutor chain...\u001b[0m\n",
      "\u001b[32;1m\u001b[1;3mUna GPU (Graphics Processing Unit) è un componente hardware progettato per accelerare la creazione di immagini e video. È utilizzata principalmente per elaborare e rendere grafica nei computer, specialmente nei giochi, nel design grafico e nelle applicazioni che richiedono elaborazioni parallele intensive, come l'apprendimento automatico.\n",
      "\n",
      "Per quanto riguarda il prezzo, il costo delle GPU può variare notevolmente in base a una serie di fattori tra cui le specifiche tecniche, il produttore, l'anno di rilascio e il mercato di destinazione (consumer, professionale, ecc.). \n",
      "\n",
      "Il prezzo delle GPU può partire da circa 100-200 euro per i modelli di fascia bassa o entry-level, fino a oltre 1.500 euro o più per i modelli di fascia alta o destinati a usi professionali, come il rendering 3D avanzato o l'intelligenza artificiale. Tuttavia, i prezzi possono fluttuare in base alla disponibilità e alla domanda di mercato.\u001b[0mInvalid Format: Missing 'Action:' after 'Thought:'\u001b[32;1m\u001b[1;3mAction: tavily_search_results_json\n",
      "Action Input: prezzo attuale GPU 2023\u001b[0m\u001b[36;1m\u001b[1;3m[{'url': 'https://www.youtube.com/watch?v=NLB5gRa7gFQ', 'content': '... GPU ECONOMICA 2023 I prezzi di alcune GPU, specialmente AMD, sono drasticamente calati. Rispetto agli anni scorsi, in questo 2023 molti'}, {'url': 'https://www.trovaprezzi.it/prezzo_schede-grafiche_gpu_nvidia.aspx', 'content': 'Gpu Nvidia in Schede Grafiche · Confronta 109 offerte per Gpu Nvidia a partire da 39,81 € · Risparmia con i migliori codici sconto in Elettronica e Informatica.'}, {'url': 'https://www.reddit.com/r/bapccanada/comments/1is7wog/gpu_pricing_is_cooked/?tl=it', 'content': 'Il prezzo consigliato di 550 $ della 5070 è di 780 CAD Il prezzo consigliato di 750 $ della 5070ti è di 1065 CAD. Queste 5070ti da \"$750 MSRP\"'}, {'url': 'https://www.hdblog.it/hardware/articoli/n576401/mercato-gpu-schede-video-ritorno-normalita/', 'content': 'Il TOP con rapporto prezzo/hardware inidiabile? Honor Magic 6 Pro, in offerta oggi da eBay a 814 euro oppure da Mediaworld a 899 euro. Acquisti'}, {'url': 'https://www.tomshardware.com/news/lowest-gpu-prices', 'content': \"GPU Price Index 2025: Lowest price on every graphics card from Nvidia, AMD, and Intel today | Tom's Hardware Check the best prices on Nvidia RTX and AMD Radeon graphics cards Nvidia RTX 40-Series: Lowest Graphics Cards Prices Nvidia RTX 30-Series: Lowest Graphics Cards Prices Three years later, Nvidia's RTX 30-series GPUs remain capable cards, and prices have come down now that the supply chain shortages and cryptocurrency mining are over. AMD Radeon RX 7000-Series: Lowest Graphics Cards Prices AMD Radeon RX 6000-Series: Lowest Graphics Card Prices Some of the best value-for-money GPUs on offer, AMD's 6000-series of graphics cards provide great performance with a very respectable price tag. Check the best prices on Nvidia RTX and AMD Radeon graphics cards.\"}]\u001b[0m\u001b[32;1m\u001b[1;3mI now have the information needed to complete the answer.\n",
      "\n",
      "Final Answer: Una GPU (Graphics Processing Unit) è un componente hardware utilizzato per elaborare e rendere grafica in computer e altre applicazioni che richiedono elaborazioni parallele intensive. Il prezzo delle GPU nel 2023 può variare notevolmente: modelli entry-level possono partire da circa 39,81 euro, mentre modelli di fascia alta possono superare i 1.500 euro, a seconda delle specifiche tecniche e del produttore. Il mercato delle GPU ha visto una riduzione dei prezzi rispetto agli anni precedenti, specialmente per alcuni modelli AMD.\u001b[0m\n",
      "\n",
      "\u001b[1m> Finished chain.\u001b[0m\n"
     ]
    },
    {
     "data": {
      "text/plain": [
       "{'input': \"Cos'è una GPU è qual è il range di prezzo di questi hardware?\",\n",
       " 'output': 'Una GPU (Graphics Processing Unit) è un componente hardware utilizzato per elaborare e rendere grafica in computer e altre applicazioni che richiedono elaborazioni parallele intensive. Il prezzo delle GPU nel 2023 può variare notevolmente: modelli entry-level possono partire da circa 39,81 euro, mentre modelli di fascia alta possono superare i 1.500 euro, a seconda delle specifiche tecniche e del produttore. Il mercato delle GPU ha visto una riduzione dei prezzi rispetto agli anni precedenti, specialmente per alcuni modelli AMD.'}"
      ]
     },
     "execution_count": 42,
     "metadata": {},
     "output_type": "execute_result"
    }
   ],
   "source": [
    "agent_executor.invoke({\"input\": \"Cos'è una GPU è qual è il range di prezzo di questi hardware?\"})"
   ]
  }
 ],
 "metadata": {
  "kernelspec": {
   "display_name": ".venv",
   "language": "python",
   "name": "python3"
  },
  "language_info": {
   "codemirror_mode": {
    "name": "ipython",
    "version": 3
   },
   "file_extension": ".py",
   "mimetype": "text/x-python",
   "name": "python",
   "nbconvert_exporter": "python",
   "pygments_lexer": "ipython3",
   "version": "3.12.4"
  }
 },
 "nbformat": 4,
 "nbformat_minor": 2
}
