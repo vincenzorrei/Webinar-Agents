{
 "cells": [
  {
   "cell_type": "code",
   "execution_count": 9,
   "metadata": {},
   "outputs": [],
   "source": [
    "from langchain.tools import StructuredTool, tool"
   ]
  },
  {
   "cell_type": "markdown",
   "metadata": {},
   "source": [
    "The `@tool` decorator is the simplest way to define a custom Tool.\n",
    "\n",
    "The function name will be used as the Tool name, but it can be overridden by passing a string as the first argument.\n",
    "Additionally, the function's docstring will be used as the Tool's `description`, so a docstring **MUST** be included."
   ]
  },
  {
   "cell_type": "markdown",
   "metadata": {},
   "source": [
    "## 1. Creation with @tool wrapper"
   ]
  },
  {
   "cell_type": "code",
   "execution_count": 10,
   "metadata": {},
   "outputs": [
    {
     "name": "stdout",
     "output_type": "stream",
     "text": [
      "Tool:         [xyz]\n",
      "Descrizione:  Descrizione in linguaggio naturale di che cosa fa questo tool\n",
      "Input schema: {'query': {'title': 'Query', 'type': 'string'}}\n"
     ]
    }
   ],
   "source": [
    "@tool\n",
    "def xyz(query: str) -> str:\n",
    "    \"\"\"Descrizione in linguaggio naturale di che cosa fa questo tool\"\"\"\n",
    "    return \"Questo è l'output del tool\"\n",
    "\n",
    "\n",
    "print(f\"Tool:         [{xyz.name}]\\nDescrizione:  {xyz.description}\\nInput schema: {xyz.args}\")"
   ]
  },
  {
   "cell_type": "code",
   "execution_count": 11,
   "metadata": {},
   "outputs": [
    {
     "data": {
      "text/plain": [
       "\"Questo è l'output del tool\""
      ]
     },
     "execution_count": 11,
     "metadata": {},
     "output_type": "execute_result"
    }
   ],
   "source": [
    "xyz.run( {\"query\":\"ciao\"} )"
   ]
  },
  {
   "cell_type": "markdown",
   "metadata": {},
   "source": [
    "## 2. Creation with StructuredTool"
   ]
  },
  {
   "cell_type": "code",
   "execution_count": 12,
   "metadata": {},
   "outputs": [
    {
     "name": "stdout",
     "output_type": "stream",
     "text": [
      "Tool:         [xyz-tool]\n",
      "Descrizione:  Descrizione in linguaggio naturale di che cosa fa questo tool\n",
      "Input schema: {'query': {'title': 'Query'}}\n"
     ]
    }
   ],
   "source": [
    "def xyz(query):\n",
    "    return \"Questo è l'output del nuovo tool\"\n",
    "\n",
    "xyz_tool = StructuredTool.from_function(\n",
    "    func=xyz,\n",
    "    name=\"xyz-tool\",\n",
    "    description=\"Descrizione in linguaggio naturale di che cosa fa questo tool\",\n",
    "    # coroutine= ... eventuale metodo per gestire chiamate asincrone, se disponibile. Questo possiamo farlo solo con questa modalità di creazione tool\n",
    ")\n",
    "\n",
    "print(f\"Tool:         [{xyz_tool.name}]\\nDescrizione:  {xyz_tool.description}\\nInput schema: {xyz_tool.args}\")"
   ]
  },
  {
   "cell_type": "code",
   "execution_count": 13,
   "metadata": {},
   "outputs": [
    {
     "data": {
      "text/plain": [
       "\"Questo è l'output del nuovo tool\""
      ]
     },
     "execution_count": 13,
     "metadata": {},
     "output_type": "execute_result"
    }
   ],
   "source": [
    "xyz_tool.run( {\"query\":\"ciao\"} )"
   ]
  },
  {
   "cell_type": "markdown",
   "metadata": {},
   "source": [
    "## Add a tool to an LLM"
   ]
  },
  {
   "cell_type": "code",
   "execution_count": 15,
   "metadata": {},
   "outputs": [],
   "source": [
    "from langchain_experimental.tools import PythonREPLTool\n"
   ]
  },
  {
   "cell_type": "code",
   "execution_count": 29,
   "metadata": {},
   "outputs": [
    {
     "name": "stdout",
     "output_type": "stream",
     "text": [
      "A Python shell. Use this to execute python commands. Input should be a valid python command. If you want to see the output of a value, you should print it out with `print(...)`.\n"
     ]
    }
   ],
   "source": [
    "print(PythonREPLTool().description)"
   ]
  },
  {
   "cell_type": "code",
   "execution_count": 35,
   "metadata": {},
   "outputs": [],
   "source": [
    "@tool\n",
    "def censor(query: str) -> str:\n",
    "    \"\"\"Questo tool censura le risposte del bot quando si parla di Sanremo \"\"\"\n",
    "    return \"Preferisco non parlare di questi argomenti\"\n",
    "\n"
   ]
  },
  {
   "cell_type": "code",
   "execution_count": 36,
   "metadata": {},
   "outputs": [],
   "source": [
    "tools = []\n",
    "tools.append(censor)\n",
    "tools.append(PythonREPLTool())"
   ]
  },
  {
   "cell_type": "code",
   "execution_count": 37,
   "metadata": {},
   "outputs": [],
   "source": [
    "from langchain.agents import AgentExecutor, create_tool_calling_agent, tool\n",
    "from langchain_core.prompts import ChatPromptTemplate\n",
    "from langchain_openai import ChatOpenAI\n",
    "import os\n",
    "from dotenv import load_dotenv\n",
    "\n",
    "\n",
    "prompt = ChatPromptTemplate.from_messages(\n",
    "    [\n",
    "        (\"system\", \"You are a helpful assistant that use step by step process to handle the user input\"),\n",
    "        (\"human\", \"{input}\"),\n",
    "        (\"placeholder\", \"{agent_scratchpad}\"),\n",
    "    ]\n",
    ")\n"
   ]
  },
  {
   "cell_type": "code",
   "execution_count": 38,
   "metadata": {},
   "outputs": [],
   "source": [
    "# Load variables from .env\n",
    "load_dotenv()\n",
    "\n",
    "# Retrieve variables\n",
    "api_key = os.getenv(\"API_KEY\")\n"
   ]
  },
  {
   "cell_type": "code",
   "execution_count": 39,
   "metadata": {},
   "outputs": [],
   "source": [
    "# Creation of the agent with the tool\n",
    "# https://api.python.langchain.com/en/latest/agents/langchain.agents.tool_calling_agent.base.create_tool_calling_agent.html\n",
    "\n",
    "model = ChatOpenAI(model=\"gpt-4o\", # GPT-3.5-turbo is the default model\n",
    "                 openai_api_key=api_key,\n",
    "                 temperature=.75,\n",
    "                 max_tokens=1024,\n",
    "                 request_timeout=30)  \n",
    "\n",
    "agent = create_tool_calling_agent(model, tools, prompt)\n",
    "agent_executor = AgentExecutor(agent=agent, tools=tools, verbose=True, handle_parsing_errors=True)\n"
   ]
  },
  {
   "cell_type": "markdown",
   "metadata": {},
   "source": [
    "Among the various actions performed by the agent_executor, it also takes care of filling the agent's \"notebook\" from time to time, through an input called `intermediate_steps` which will contain the \"log\" of the agent's \"reasoning\" history.\n",
    "\n",
    "If we call the agent directly by hand (without going through the agent_executor), we must manually pass this information (which will obviously be empty as there is no history).\n",
    "\n",
    "If the agent deems it necessary, it will perform a specific action through the use of a tool and will return an object of type __ToolAgentAction__ specifying the tool to be used and the input to be passed to the tool so that the agent_executor can handle it accordingly."
   ]
  },
  {
   "cell_type": "code",
   "execution_count": 40,
   "metadata": {},
   "outputs": [
    {
     "data": {
      "text/plain": [
       "[ToolAgentAction(tool='Python_REPL', tool_input={'query': 'total_spent = 25\\none_tenth = total_spent / 10\\nprint(one_tenth)'}, log=\"\\nInvoking: `Python_REPL` with `{'query': 'total_spent = 25\\\\none_tenth = total_spent / 10\\\\nprint(one_tenth)'}`\\n\\n\\n\", message_log=[AIMessage(content='', additional_kwargs={'tool_calls': [{'id': 'call_78jIUL4IzUrX9feGVgBgtcgR', 'function': {'arguments': '{\"query\":\"total_spent = 25\\\\none_tenth = total_spent / 10\\\\nprint(one_tenth)\"}', 'name': 'Python_REPL'}, 'type': 'function'}], 'refusal': None}, response_metadata={'token_usage': {'completion_tokens': 39, 'prompt_tokens': 149, 'total_tokens': 188, 'completion_tokens_details': {'accepted_prediction_tokens': 0, 'audio_tokens': 0, 'reasoning_tokens': 0, 'rejected_prediction_tokens': 0}, 'prompt_tokens_details': {'audio_tokens': 0, 'cached_tokens': 0}}, 'model_name': 'gpt-4o-2024-08-06', 'system_fingerprint': 'fp_f9f4fb6dbf', 'finish_reason': 'tool_calls', 'logprobs': None}, id='run-fe2df0a3-2930-4153-b41a-96908f1f1f16-0', tool_calls=[{'name': 'Python_REPL', 'args': {'query': 'total_spent = 25\\none_tenth = total_spent / 10\\nprint(one_tenth)'}, 'id': 'call_78jIUL4IzUrX9feGVgBgtcgR', 'type': 'tool_call'}], usage_metadata={'input_tokens': 149, 'output_tokens': 39, 'total_tokens': 188, 'input_token_details': {'audio': 0, 'cache_read': 0}, 'output_token_details': {'audio': 0, 'reasoning': 0}})], tool_call_id='call_78jIUL4IzUrX9feGVgBgtcgR')]"
      ]
     },
     "execution_count": 40,
     "metadata": {},
     "output_type": "execute_result"
    }
   ],
   "source": [
    "agent.invoke({\"input\": 'calcola un decimo del valore riportato nel seguente testo: \"abbiamo speso 25€ in totale\"', \"intermediate_steps\":\"\"})"
   ]
  },
  {
   "cell_type": "code",
   "execution_count": 41,
   "metadata": {},
   "outputs": [
    {
     "name": "stdout",
     "output_type": "stream",
     "text": [
      "\n",
      "\n",
      "\u001b[1m> Entering new AgentExecutor chain...\u001b[0m\n",
      "\u001b[32;1m\u001b[1;3m\n",
      "Invoking: `Python_REPL` with `{'query': 'spesa_totale = 25\\nun_decimo = spesa_totale / 10\\nun_decimo'}`\n",
      "\n",
      "\n",
      "\u001b[0m\u001b[33;1m\u001b[1;3m\u001b[0m\u001b[32;1m\u001b[1;3m\u001b[0m\n",
      "\n",
      "\u001b[1m> Finished chain.\u001b[0m\n"
     ]
    },
    {
     "data": {
      "text/plain": [
       "{'input': 'calcola un decimo del valore riportato nel seguente testo: \"abbiamo speso 25€ in totale\"',\n",
       " 'output': ''}"
      ]
     },
     "execution_count": 41,
     "metadata": {},
     "output_type": "execute_result"
    }
   ],
   "source": [
    "agent_executor.invoke({\"input\": 'calcola un decimo del valore riportato nel seguente testo: \"abbiamo speso 25€ in totale\"'})"
   ]
  },
  {
   "cell_type": "code",
   "execution_count": 42,
   "metadata": {},
   "outputs": [
    {
     "data": {
      "text/plain": [
       "[ToolAgentAction(tool='censor', tool_input={'query': 'Chi ha vinto Sanremo?'}, log=\"\\nInvoking: `censor` with `{'query': 'Chi ha vinto Sanremo?'}`\\n\\n\\n\", message_log=[AIMessage(content='', additional_kwargs={'tool_calls': [{'id': 'call_W9OCs3IoEpJepfmNGRKfIK37', 'function': {'arguments': '{\"query\":\"Chi ha vinto Sanremo?\"}', 'name': 'censor'}, 'type': 'function'}], 'refusal': None}, response_metadata={'token_usage': {'completion_tokens': 21, 'prompt_tokens': 131, 'total_tokens': 152, 'completion_tokens_details': {'accepted_prediction_tokens': 0, 'audio_tokens': 0, 'reasoning_tokens': 0, 'rejected_prediction_tokens': 0}, 'prompt_tokens_details': {'audio_tokens': 0, 'cached_tokens': 0}}, 'model_name': 'gpt-4o-2024-08-06', 'system_fingerprint': 'fp_f9f4fb6dbf', 'finish_reason': 'tool_calls', 'logprobs': None}, id='run-db7bcfb1-f18a-47e6-83f5-41d6c96fd0fe-0', tool_calls=[{'name': 'censor', 'args': {'query': 'Chi ha vinto Sanremo?'}, 'id': 'call_W9OCs3IoEpJepfmNGRKfIK37', 'type': 'tool_call'}], usage_metadata={'input_tokens': 131, 'output_tokens': 21, 'total_tokens': 152, 'input_token_details': {'audio': 0, 'cache_read': 0}, 'output_token_details': {'audio': 0, 'reasoning': 0}})], tool_call_id='call_W9OCs3IoEpJepfmNGRKfIK37')]"
      ]
     },
     "execution_count": 42,
     "metadata": {},
     "output_type": "execute_result"
    }
   ],
   "source": [
    "agent.invoke({\"input\": 'Chi ha vinto Sanremo?', \"intermediate_steps\":\"\"})"
   ]
  },
  {
   "cell_type": "code",
   "execution_count": 43,
   "metadata": {},
   "outputs": [
    {
     "name": "stdout",
     "output_type": "stream",
     "text": [
      "\n",
      "\n",
      "\u001b[1m> Entering new AgentExecutor chain...\u001b[0m\n",
      "\u001b[32;1m\u001b[1;3m\n",
      "Invoking: `censor` with `{'query': 'Chi ha vinto Sanremo?'}`\n",
      "\n",
      "\n",
      "\u001b[0m\u001b[36;1m\u001b[1;3mPreferisco non parlare di questi argomenti\u001b[0m\u001b[32;1m\u001b[1;3mPreferisco non parlare di questi argomenti.\u001b[0m\n",
      "\n",
      "\u001b[1m> Finished chain.\u001b[0m\n"
     ]
    },
    {
     "data": {
      "text/plain": [
       "{'input': 'Chi ha vinto Sanremo?',\n",
       " 'output': 'Preferisco non parlare di questi argomenti.'}"
      ]
     },
     "execution_count": 43,
     "metadata": {},
     "output_type": "execute_result"
    }
   ],
   "source": [
    "agent_executor.invoke({\"input\": 'Chi ha vinto Sanremo?'})"
   ]
  }
 ],
 "metadata": {
  "kernelspec": {
   "display_name": ".venv",
   "language": "python",
   "name": "python3"
  },
  "language_info": {
   "codemirror_mode": {
    "name": "ipython",
    "version": 3
   },
   "file_extension": ".py",
   "mimetype": "text/x-python",
   "name": "python",
   "nbconvert_exporter": "python",
   "pygments_lexer": "ipython3",
   "version": "3.12.4"
  }
 },
 "nbformat": 4,
 "nbformat_minor": 2
}
