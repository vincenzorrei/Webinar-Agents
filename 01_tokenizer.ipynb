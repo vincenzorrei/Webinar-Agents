{
 "cells": [
  {
   "cell_type": "code",
   "execution_count": 10,
   "metadata": {},
   "outputs": [],
   "source": [
    "import tiktoken"
   ]
  },
  {
   "cell_type": "code",
   "execution_count": 11,
   "metadata": {},
   "outputs": [],
   "source": [
    "# Choose the model you want to use for tokenization\n",
    "encoding = tiktoken.encoding_for_model(\"gpt-4o-mini\")"
   ]
  },
  {
   "cell_type": "code",
   "execution_count": null,
   "metadata": {},
   "outputs": [
    {
     "name": "stdout",
     "output_type": "stream",
     "text": [
      "11 token\n",
      "[15834, 10970, 448, 15457, 1058, 316, 4484, 1078, 27034, 22990, 0]\n"
     ]
    }
   ],
   "source": [
    "# Token encoding\n",
    "encoded = encoding.encode(\"How much do you know about LLMs?\")\n",
    "# encoded = encoding.encode(\"It's truly an exciting time to learn about artificial intelligence!\")\n",
    "\n",
    "print(len(encoded), \"token\")\n",
    "print(encoded)"
   ]
  },
  {
   "cell_type": "code",
   "execution_count": 15,
   "metadata": {},
   "outputs": [
    {
     "name": "stdout",
     "output_type": "stream",
     "text": [
      "15834: It's\n",
      "10970:  truly\n",
      "448  :  an\n",
      "15457:  exciting\n",
      "1058 :  time\n",
      "316  :  to\n",
      "4484 :  learn\n",
      "1078 :  about\n",
      "27034:  artificial\n",
      "22990:  intelligence\n",
      "0    : !\n"
     ]
    }
   ],
   "source": [
    "max_len = max(len(str(i)) for i in encoded)\n",
    "\n",
    "for i in encoded:\n",
    "    print(f'{str(i).ljust(max_len)}: {encoding.decode([i])}')"
   ]
  }
 ],
 "metadata": {
  "kernelspec": {
   "display_name": ".venv",
   "language": "python",
   "name": "python3"
  },
  "language_info": {
   "codemirror_mode": {
    "name": "ipython",
    "version": 3
   },
   "file_extension": ".py",
   "mimetype": "text/x-python",
   "name": "python",
   "nbconvert_exporter": "python",
   "pygments_lexer": "ipython3",
   "version": "3.12.4"
  }
 },
 "nbformat": 4,
 "nbformat_minor": 2
}
